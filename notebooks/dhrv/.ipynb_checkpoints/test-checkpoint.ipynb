{
 "cells": [
  {
   "cell_type": "markdown",
   "id": "7b53f534-a220-42ac-8a01-cfbbce9469ea",
   "metadata": {},
   "source": [
    "### Setup"
   ]
  },
  {
   "cell_type": "code",
   "execution_count": null,
   "id": "92f71bdf-c875-4564-b9f7-35d4f32eccab",
   "metadata": {},
   "outputs": [],
   "source": [
    "#Imports\n",
    "\n",
    "import requests\n",
    "import json\n",
    "import getpass\n",
    "import os\n",
    "import glob\n",
    "import orjson\n",
    "import concurrent.futures\n",
    "\n",
    "from langchain_ollama import OllamaEmbeddings\n",
    "from langchain_community.vectorstores import Chroma\n",
    "\n",
    "from langchain_core.documents import Document\n",
    "from langchain_text_splitters import RecursiveCharacterTextSplitter\n",
    "\n",
    "from langchain.document_loaders.base import BaseLoader\n",
    "from langchain_community.embeddings import HuggingFaceEmbeddings\n",
    "\n",
    "\n",
    "from langchain_community.document_loaders import TextLoader, JSONLoader, CSVLoader\n",
    "\n",
    "import multiprocessing as mp\n",
    "\n",
    "import os, glob, concurrent.futures, json\n",
    "from tqdm import tqdm"
   ]
  },
  {
   "cell_type": "code",
   "execution_count": null,
   "id": "283dcc42-c2ad-48bb-9878-a689b3210639",
   "metadata": {},
   "outputs": [],
   "source": [
    "#Configs\n",
    "\n",
    "DATA_DIR = \"./../../final_train/\"\n",
    "VECTOR_STORE_DIR = \"./../../vector_stores/dhruv_db/\"\n",
    "\n",
    "\n",
    "# Embedding LLM\n",
    "embedding_fn = HuggingFaceEmbeddings(\n",
    "    model_name=\"sentence-transformers/all-MiniLM-L6-v2\",  # tiny, very fast\n",
    "    model_kwargs={\"device\": \"cuda\"}  # use GPU\n",
    ")\n",
    "\n",
    "# Vector store/datastore #TODO USE FAISS\n",
    "\n",
    "vector_store = Chroma(\n",
    "    collection_name=\"example_collection\",\n",
    "    embedding_function=embeddings,\n",
    "    persist_directory=\"./\", #(VECTOR_STORE_DIR + PERSIST_DIR)\n",
    ")\n",
    "\n",
    "\n",
    "# Document loader\n",
    "pass\n",
    "\n",
    "# Document Splitter\n",
    "pass\n",
    "\n",
    "#Document Indexer\n",
    "pass\n",
    "\n",
    "# Document Retriever\n",
    "pass"
   ]
  },
  {
   "cell_type": "markdown",
   "id": "ca3c9f19-a5f3-4657-a3ad-e7343e90eab3",
   "metadata": {},
   "source": [
    "### Document loader\n"
   ]
  },
  {
   "cell_type": "markdown",
   "id": "c7e9e156-9523-4e14-b205-4b65805ecd3f",
   "metadata": {},
   "source": [
    "### Document Splitter"
   ]
  },
  {
   "cell_type": "markdown",
   "id": "acf3fec6-3aa5-4806-8367-42ba2252eae5",
   "metadata": {},
   "source": [
    "### Document Indexer\n"
   ]
  },
  {
   "cell_type": "markdown",
   "id": "2773194c-6116-4254-b936-cba6d0c5b55e",
   "metadata": {},
   "source": [
    "### Document Retriever\n"
   ]
  }
 ],
 "metadata": {
  "kernelspec": {
   "display_name": "Python 3 (ipykernel)",
   "language": "python",
   "name": "python3"
  },
  "language_info": {
   "codemirror_mode": {
    "name": "ipython",
    "version": 3
   },
   "file_extension": ".py",
   "mimetype": "text/x-python",
   "name": "python",
   "nbconvert_exporter": "python",
   "pygments_lexer": "ipython3",
   "version": "3.12.11"
  }
 },
 "nbformat": 4,
 "nbformat_minor": 5
}
