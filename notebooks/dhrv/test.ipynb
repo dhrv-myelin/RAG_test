{
 "cells": [
  {
   "cell_type": "markdown",
   "id": "7b53f534-a220-42ac-8a01-cfbbce9469ea",
   "metadata": {},
   "source": [
    "### Setup"
   ]
  },
  {
   "cell_type": "code",
   "execution_count": 1,
   "id": "92f71bdf-c875-4564-b9f7-35d4f32eccab",
   "metadata": {},
   "outputs": [],
   "source": [
    "#Imports\n",
    "\n",
    "import requests\n",
    "import json\n",
    "import getpass\n",
    "import os\n",
    "import glob\n",
    "import orjson\n",
    "import concurrent.futures\n",
    "\n",
    "from langchain_ollama import OllamaEmbeddings\n",
    "from langchain_community.vectorstores import Chroma\n",
    "\n",
    "from langchain_core.documents import Document\n",
    "from langchain_text_splitters import RecursiveCharacterTextSplitter\n",
    "\n",
    "from langchain.document_loaders.base import BaseLoader\n",
    "from langchain_community.embeddings import HuggingFaceEmbeddings\n",
    "\n",
    "\n",
    "from langchain_community.document_loaders import TextLoader, JSONLoader, CSVLoader\n",
    "\n",
    "import multiprocessing as mp\n",
    "\n",
    "import os, glob, concurrent.futures, json\n",
    "from tqdm import tqdm\n",
    "\n",
    "import os\n",
    "from collections import defaultdict\n",
    "from typing import List"
   ]
  },
  {
   "cell_type": "code",
   "execution_count": 2,
   "id": "283dcc42-c2ad-48bb-9878-a689b3210639",
   "metadata": {},
   "outputs": [
    {
     "name": "stderr",
     "output_type": "stream",
     "text": [
      "/tmp/ipykernel_56/1054849735.py:8: LangChainDeprecationWarning: The class `HuggingFaceEmbeddings` was deprecated in LangChain 0.2.2 and will be removed in 1.0. An updated version of the class exists in the :class:`~langchain-huggingface package and should be used instead. To use it run `pip install -U :class:`~langchain-huggingface` and import as `from :class:`~langchain_huggingface import HuggingFaceEmbeddings``.\n",
      "  embedding_fn = HuggingFaceEmbeddings(\n"
     ]
    }
   ],
   "source": [
    "#Configs\n",
    "\n",
    "DATA_DIR = \"./../../final_train/\"\n",
    "VECTOR_STORE_DIR = \"./../../vector_stores/dhruv_db/\"\n",
    "\n",
    "\n",
    "# Embedding LLM\n",
    "embedding_fn = HuggingFaceEmbeddings(\n",
    "    model_name=\"sentence-transformers/all-MiniLM-L6-v2\",  # tiny, very fast\n",
    "    model_kwargs={\"device\": \"cuda\"}  # use GPU\n",
    ")\n",
    "\n",
    "# Vector store/datastore #TODO USE FAISS\n",
    "\n",
    "# vector_store = Chroma(\n",
    "#     collection_name=\"example_collection\",\n",
    "#     embedding_function=embeddings,\n",
    "#     persist_directory=\"./\", #(VECTOR_STORE_DIR + PERSIST_DIR)\n",
    "# )\n",
    "\n",
    "\n",
    "# Document loader + splitter --> shards (can be used for sparse or dense indexing)\n",
    "pass\n",
    "\n",
    "# Document Splitter\n",
    "pass\n",
    "\n",
    "#Document Indexer\n",
    "pass\n",
    "\n",
    "# Document Retriever\n",
    "pass"
   ]
  },
  {
   "cell_type": "markdown",
   "id": "ca3c9f19-a5f3-4657-a3ad-e7343e90eab3",
   "metadata": {},
   "source": [
    "### Document loader\n"
   ]
  },
  {
   "cell_type": "code",
   "execution_count": 3,
   "id": "953e77bd-a501-407e-b23c-13f0e878f320",
   "metadata": {
    "scrolled": true
   },
   "outputs": [
    {
     "name": "stdout",
     "output_type": "stream",
     "text": [
      "File type: .txt -> 97958 files\n",
      "['./../../final_train/19393327__WQ__E-2008-4260__EN.txt', './../../final_train/22860129__WQA__E-2009-3395__EN.txt', './../../final_train/14701632__QT__H-2007-0537__EN.txt']\n",
      "File type: .json -> 93815 files\n",
      "['./../../final_train/167640-4989_jeopardy_wordphraseorigins_200_881f0e.json', './../../final_train/211850-3224_jeopardy_inventors_100_32f0bd.json', './../../final_train/context_73727.json']\n",
      "File type: .tsv -> 4 files\n",
      "['./../../final_train/collection.tsv', './../../final_train/collection_3dfbf6.tsv', './../../final_train/collection_1.tsv']\n",
      "File type: .tsv# -> 1 files\n",
      "['./../../final_train/.~lock.collection.tsv#']\n"
     ]
    }
   ],
   "source": [
    "def data_loader(data_dir: str) -> List[List[str]]:\n",
    "    \"\"\"\n",
    "    Walks through `data_dir` and returns a list of lists of file paths,\n",
    "    grouped by file extension/type.\n",
    "    \n",
    "    Args:\n",
    "        data_dir (str): The root directory to search in.\n",
    "    \n",
    "    Returns:\n",
    "        List[List[str]]: A list of lists, where each inner list contains\n",
    "                         file paths of a particular file type.\n",
    "    \"\"\"\n",
    "    grouped_files = defaultdict(list)\n",
    "    \n",
    "    # Walk through directory and collect files\n",
    "    for root, _, files in os.walk(data_dir):\n",
    "        for file in files:\n",
    "            ext = os.path.splitext(file)[1].lower()  # get extension\n",
    "            file_path = os.path.join(root, file)\n",
    "            grouped_files[ext].append(file_path)\n",
    "    \n",
    "    # Convert to list of lists\n",
    "    return list(grouped_files.values())\n",
    "\n",
    "\n",
    "# Example usage\n",
    "if __name__ == \"__main__\":\n",
    "\n",
    "    grouped_paths = data_loader(DATA_DIR)\n",
    "    for group in grouped_paths:\n",
    "        print(f\"File type: {os.path.splitext(group[0])[1]} -> {len(group)} files\")\n",
    "        print(group[:3])  # preview first 3 paths"
   ]
  },
  {
   "cell_type": "code",
   "execution_count": null,
   "id": "9e7f1226-f4bf-492e-8653-4f0f2d05e7a3",
   "metadata": {},
   "outputs": [],
   "source": []
  },
  {
   "cell_type": "markdown",
   "id": "c7e9e156-9523-4e14-b205-4b65805ecd3f",
   "metadata": {
    "jp-MarkdownHeadingCollapsed": true,
    "jupyter": {
     "source_hidden": true
    }
   },
   "source": [
    "### Document Splitter"
   ]
  },
  {
   "cell_type": "code",
   "execution_count": null,
   "id": "11315f97-8fcb-4b7b-85a7-dde13b63815c",
   "metadata": {},
   "outputs": [],
   "source": []
  },
  {
   "cell_type": "markdown",
   "id": "acf3fec6-3aa5-4806-8367-42ba2252eae5",
   "metadata": {
    "jupyter": {
     "source_hidden": true
    }
   },
   "source": [
    "### Document Indexer\n"
   ]
  },
  {
   "cell_type": "markdown",
   "id": "2773194c-6116-4254-b936-cba6d0c5b55e",
   "metadata": {
    "jupyter": {
     "source_hidden": true
    }
   },
   "source": [
    "### Document Retriever\n"
   ]
  }
 ],
 "metadata": {
  "kernelspec": {
   "display_name": "Python 3 (ipykernel)",
   "language": "python",
   "name": "python3"
  },
  "language_info": {
   "codemirror_mode": {
    "name": "ipython",
    "version": 3
   },
   "file_extension": ".py",
   "mimetype": "text/x-python",
   "name": "python",
   "nbconvert_exporter": "python",
   "pygments_lexer": "ipython3",
   "version": "3.12.11"
  }
 },
 "nbformat": 4,
 "nbformat_minor": 5
}
