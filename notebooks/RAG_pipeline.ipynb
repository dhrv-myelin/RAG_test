{
 "cells": [
  {
   "cell_type": "markdown",
   "id": "dc3d8b9f-d619-41ce-85bc-7e7b7ce9fd27",
   "metadata": {},
   "source": [
    "# RAG PIPELINE"
   ]
  },
  {
   "cell_type": "markdown",
   "id": "0a880eb7-1ef4-4772-8784-c08f630aa012",
   "metadata": {},
   "source": [
    "## IMPORTS"
   ]
  },
  {
   "cell_type": "code",
   "execution_count": null,
   "id": "ebf3997f-923f-4491-b558-14ef911a4ad5",
   "metadata": {},
   "outputs": [],
   "source": [
    "# need to run only once\n",
    "!uv add langchain-text-splitters langchain-community langgraph\n",
    "!uv add \"langchain-perplexity\"\n",
    "!uv add langchain-ollama\n",
    "!uv add chromadb"
   ]
  },
  {
   "cell_type": "code",
   "execution_count": 7,
   "id": "248c0397-d074-4b2f-98c0-1f304bf997e1",
   "metadata": {},
   "outputs": [],
   "source": [
    "import requests\n",
    "import json\n",
    "import getpass\n",
    "import os\n",
    "from glob import glob\n",
    "\n",
    "\n",
    "from langchain_ollama import OllamaEmbeddings\n",
    "from langchain_community.vectorstores import Chroma\n",
    "\n",
    "from langchain_core.documents import Document\n",
    "from langchain_text_splitters import RecursiveCharacterTextSplitter\n",
    "\n",
    "\n",
    "from langchain_community.document_loaders import TextLoader, JSONLoader, CSVLoader\n"
   ]
  },
  {
   "cell_type": "markdown",
   "id": "2b72a084-b90a-419e-af81-159873e58d06",
   "metadata": {},
   "source": [
    "### generation model"
   ]
  },
  {
   "cell_type": "markdown",
   "id": "6afeb19f-831d-41e1-a0a0-b5b60f56f9c7",
   "metadata": {},
   "source": [
    "### embedding model"
   ]
  },
  {
   "cell_type": "code",
   "execution_count": 2,
   "id": "48e0c5dc-cc5c-43e9-a7cd-7e90381203ec",
   "metadata": {},
   "outputs": [],
   "source": [
    "# # pulling ollama embedding model\n",
    "\n",
    "# OLLAMA_API = \"http://ollama:11434/api/pull\"\n",
    "# model_name = \"llama3\"\n",
    "\n",
    "# with requests.post(OLLAMA_API, json={\"name\": model_name}, stream=True) as r:\n",
    "#     for line in r.iter_lines():\n",
    "#         if line:\n",
    "#             data = json.loads(line.decode(\"utf-8\"))\n",
    "#             print(data)\n"
   ]
  },
  {
   "cell_type": "markdown",
   "id": "417ff2be-815f-42b0-9b51-8b06b486e231",
   "metadata": {},
   "source": [
    "## Embeddings and vector store"
   ]
  },
  {
   "cell_type": "code",
   "execution_count": 4,
   "id": "132c89b4-632a-4d69-8c94-f1bd68edcc94",
   "metadata": {},
   "outputs": [],
   "source": [
    "from langchain_ollama import OllamaEmbeddings\n",
    "\n",
    "embeddings = OllamaEmbeddings(\n",
    "    model=\"llama3\",\n",
    "    base_url=\"http://ollama:11434\"  # service name from docker-compose\n",
    ")\n",
    "\n",
    "# Chroma will store data locally in /app/chroma_db\n",
    "vector_store = Chroma(\n",
    "    collection_name=\"my_collection\",\n",
    "    embedding_function=embeddings,\n",
    "    persist_directory=\"/app/chroma_db\"  # relative to /app in container\n",
    ")\n"
   ]
  },
  {
   "cell_type": "markdown",
   "id": "dec8795a-4c16-4799-adba-d2088ad2d60d",
   "metadata": {},
   "source": [
    "## Document loading and splitting"
   ]
  },
  {
   "cell_type": "code",
   "execution_count": 13,
   "id": "324e6895-dc0b-45ef-95aa-96a1f44c6fad",
   "metadata": {},
   "outputs": [
    {
     "name": "stdout",
     "output_type": "stream",
     "text": [
      "['./../final_train/context_73727.json']\n",
      "{\n",
      "  \"context\": [\n",
      "    [\n",
      "      \"Frailea\",\n",
      "      [\n",
      "        \"Frailea is a genus of globular to short cylindrical cacti native to Brazil.\",\n",
      "        \" These species are cleistogamous.\",\n",
      "        \" They were first classified in the genus \\\"Echinocactus\\\".\"\n",
      "      ]\n",
      "    ],\n",
      "    [\n",
      "      \"Hoodia alstonii\",\n",
      "      [\n",
      "        \"Hoodia alstonii is a succulent plant native to Namibia and the Cape Province of South Africa.\",\n",
      "        \" \\\"H. alstonii\\\" is also known commonly as Ghaap, an Afrikaans name.\",\n",
      "        \" It tends to grow in rocky, desert areas.\"\n",
      "      ]\n",
      "    ],\n",
      "    [\n",
      "      \"Hawaii Route 92\",\n",
      "      [\n",
      "        \"Route 92 is a major east\\u2013west highway on the island of Oahu which begins at exit 15 off Interstate H-1 in Honolulu and ends 0.6 mi east of the Ala Wai Canal crossing in Waikiki.\",\n",
      "        \" The western portion, west of Richards Street, is locally known as the Nimitz Highway (named after Pacific Fleet Admiral during World War II, Chester Nimitz).\",\n",
      "        \" East of Richards Street, Route 92 is locally known as Ala Moana Boulevard.\"\n",
      "      ]\n",
      "    ],\n",
      "    [\n",
      "      \"Hoodia gordonii\",\n",
      "      [\n",
      "        \"Hoodia gordonii, also known as Bushman's hat, is a leafless spiny succulent plant supposed to have therapeutic properties in folk medicine.\",\n",
      "        \" It grows naturally in Botswana, South Africa and Namibia.\",\n",
      "        \" The species became internationally known and threatened by collectors, after a marketing campaign falsely claimed that it was an appetite suppressant for weight loss.\",\n",
      "        \" The flowers smell like rotten meat and are pollinated mainly by flies.\",\n",
      "        \" The indigenous San people (Bushmen) of the Namib desert call this plant \\u01c1hoba (pronounced \\u2013 the initial sound is a lateral click) \\u2013 and the Afrikaans name ghaap is used to refer to all species of \\\"Hoodia\\\".\"\n",
      "      ]\n",
      "    ],\n",
      "    [\n",
      "      \"Hoodia flava\",\n",
      "      [\n",
      "        \"Hoodia flava is a succulent native to the Cape Province in South Africa and to Namibia.\",\n",
      "        \" It has a unique pattern of distribution, growing inside bushes or on gravelly slopes and hills.\",\n",
      "        \" It is commonly known as Ghaap or Yellow-flowered Ghaap in the Afrikaans language.\"\n",
      "      ]\n",
      "    ],\n",
      "    [\n",
      "      \"Donax trunculus\",\n",
      "      [\n",
      "        \"Donax trunculus (abrupt wedge shell, wedge clam), is a bivalve species in the family Donacidae.\",\n",
      "        \" It is native to the Mediterranean and Atlantic coasts of western Europe.\",\n",
      "        \" It is locally known as \\\"tellin\\\", \\\"tellina\\\", \\\"telline\\\" or \\\"tenille\\\" in French, \\\"tellina\\\" or \\\"coquina\\\" in Spanish, and \\\"conquilha\\\" or \\\"cadelinha\\\" in Portuguese, and is consumed as a food in these countries.\",\n",
      "        \" There is a very similar shellfish in Australia locally known as \\\"Pippies\\\"\"\n",
      "      ]\n",
      "    ],\n",
      "    [\n",
      "      \"Missouri Route 267\",\n",
      "      [\n",
      "        \"Route 267 is a short state highway in the St. Louis, Missouri area.\",\n",
      "        \" Its northern terminus is at Broadway in south St. Louis; its southern terminus is at an intersection with U.S. Routes 50, 61, and U.S. Route 67, locally known as Lindbergh Boulevard (to the east and west) and Lemay Ferry Road to the south.\",\n",
      "        \" The route is locally known as Lemay Ferry Road.\"\n",
      "      ]\n",
      "    ],\n",
      "    [\n",
      "      \"Tennessee State Route 268\",\n",
      "      [\n",
      "        \"State Route 268 (SR 268) is a secondary state highway in Rutherford County and Murfreesboro, Tennessee, USA.\",\n",
      "        \" It runs from US 41/70S (locally known as North West Broad Street) on the north west side of Murfreesboro, to its Eastern terminus with SR-96 (locally known as Lascassas Pike), north-east of Murfreesboro.\"\n",
      "      ]\n",
      "    ],\n",
      "    [\n",
      "      \"Hoodia currorii\",\n",
      "      [\n",
      "        \"Hoodia currorii is a succulent plant native to Namibia and the Cape Province of South Africa.\",\n",
      "        \" It grows in desert areas and is common along the road from Karibib to Swakopmund in Namibia.\",\n",
      "        \" It is also known as Ghaap in the vernacular.\"\n",
      "      ]\n",
      "    ],\n",
      "    [\n",
      "      \"Hoodia\",\n",
      "      [\n",
      "        \"Hoodia (known locally as \\\"ghaap\\\" or \\\"bobbejaanghaap\\\") is a genus of flowering plants in the family Apocynaceae, under the subfamily Asclepiadoideae, native to Southern Africa.\"\n",
      "      ]\n",
      "    ]\n",
      "  ]\n",
      "}\n"
     ]
    }
   ],
   "source": [
    "# Settings\n",
    "DATA_DIR = \"./../final_train/\"\n",
    "VECTOR_DB = \"/app/chroma_db/\"\n",
    "\n",
    "\n",
    "\n",
    "splitter = RecursiveCharacterTextSplitter(\n",
    "    chunk_size=512,\n",
    "    chunk_overlap=50,\n",
    "    add_start_index=True,\n",
    ")\n",
    "\n",
    "# Loaders\n",
    "def load_txt(path):\n",
    "    return TextLoader(path, encoding='utf-8').load()\n",
    "def load_json(path):\n",
    "    return JSONLoader(path, jq_schema='.[]', text_content_key='text').load()\n",
    "def load_tsv(path):\n",
    "    return CSVLoader(path, encoding='utf-8', csv_args={'delimiter': '\\t'}).load()\n",
    "\n",
    "# Automated dispatcher\n",
    "def process_and_add_files(file_paths, loader_fn):\n",
    "    \n",
    "    for path in file_paths:\n",
    "        docs = loader_fn(path)\n",
    "        print(docs)\n",
    "        #split docs\n",
    "        split_docs = splitter.split_documents(docs)\n",
    "        vector_store.add_documents(split_docs)\n",
    "        print(f\"Indexed {len(split_docs)} chunks from {path}\")\n",
    "\n",
    "# Recursively collect files\n",
    "txt_files = glob(os.path.join(DATA_DIR, \"**\", \"*.txt\"), recursive=True)\n",
    "# json_files = glob(os.path.join(DATA_DIR, \"**\", \"*.json\"), recursive=True)\n",
    "json_files = glob(os.path.join(DATA_DIR, \"**\", \"context_*.json\"), recursive=True)\n",
    "tsv_files = glob(os.path.join(DATA_DIR, \"**\", \"*.tsv\"), recursive=True)\n",
    "\n",
    "# print(txt_files[:5])\n",
    "print(json_files[:1])\n",
    "# print(tsv_files[:5])\n",
    "\n",
    "\n",
    "with open(json_files[0], \"r\", encoding=\"utf-8\") as f:\n",
    "    data = json.load(f)\n",
    "    print(json.dumps(data, indent=2))  # pretty print\n",
    "# Run bulk processing\n",
    "# process_and_add_files(txt_files, load_txt)\n",
    "# process_and_add_files(json_files, load_json)\n",
    "# process_and_add_files(tsv_files, load_tsv)\n"
   ]
  },
  {
   "cell_type": "markdown",
   "id": "f9e97915-5165-4e1c-a3f8-aae5a2f943db",
   "metadata": {},
   "source": [
    "## Retrieval"
   ]
  },
  {
   "cell_type": "code",
   "execution_count": null,
   "id": "e5d88f54-3ebb-4eff-a0c9-65cadbb8ad67",
   "metadata": {},
   "outputs": [],
   "source": [
    "def retrieve_documents(query, chromadb_vectorstore, embeddings, k=4):\n",
    "    return chromadb_vectorstore.similarity_search(\n",
    "        query,\n",
    "        embeddings=embeddings,\n",
    "        k=k  # number of results\n",
    "    )\n",
    "\n",
    "# Usage\n",
    "query = \"Explain Task Decomposition\"\n",
    "retrieved_docs = retrieve_documents(query, chromadb_vectorstore, embeddings, k=4)\n"
   ]
  },
  {
   "cell_type": "code",
   "execution_count": null,
   "id": "b4e6b402-f0bc-4d48-8202-935f01655014",
   "metadata": {},
   "outputs": [],
   "source": [
    "def print_documents(docs):\n",
    "    for idx, doc in enumerate(docs, 1):\n",
    "        print(f\"--- Document {idx} ---\")\n",
    "        print(doc.page_content[:500])  # Print only the start for brevity\n",
    "        print()\n",
    "\n",
    "# Usage\n",
    "print_documents(retrieved_docs)\n"
   ]
  }
 ],
 "metadata": {
  "kernelspec": {
   "display_name": "Python 3 (ipykernel)",
   "language": "python",
   "name": "python3"
  },
  "language_info": {
   "codemirror_mode": {
    "name": "ipython",
    "version": 3
   },
   "file_extension": ".py",
   "mimetype": "text/x-python",
   "name": "python",
   "nbconvert_exporter": "python",
   "pygments_lexer": "ipython3",
   "version": "3.12.11"
  }
 },
 "nbformat": 4,
 "nbformat_minor": 5
}
